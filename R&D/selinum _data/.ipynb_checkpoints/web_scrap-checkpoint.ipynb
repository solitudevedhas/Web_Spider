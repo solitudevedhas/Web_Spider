{
 "cells": [
  {
   "cell_type": "code",
   "execution_count": 1,
   "metadata": {},
   "outputs": [],
   "source": [
    "## import required packages\n",
    "from selenium import webdriver\n",
    "from selenium.webdriver.common.keys import Keys\n",
    "from selenium.common.exceptions import TimeoutException\n",
    "from selenium.webdriver.support.ui import WebDriverWait\n",
    "from selenium.common.exceptions import NoSuchElementException\n",
    "from selenium.webdriver.common.by import By\n",
    "import selenium.webdriver.support.ui as ui\n",
    "import selenium.webdriver.support.expected_conditions as EC\n",
    "from bs4 import BeautifulSoup\n",
    "import pandas as pd\n",
    "import os\n",
    "import time"
   ]
  },
  {
   "cell_type": "code",
   "execution_count": 2,
   "metadata": {},
   "outputs": [],
   "source": [
    "options = webdriver.ChromeOptions() ## calling chrome webdriver class options\n",
    "driver = webdriver.Chrome(options=options,executable_path='chromedriver.exe') # giving path of chrome of chrome driver"
   ]
  },
  {
   "cell_type": "code",
   "execution_count": 3,
   "metadata": {},
   "outputs": [],
   "source": [
    "driver.get(\"https://www.nintendo.com/games/game-guide/#filter/:q=\")"
   ]
  },
  {
   "cell_type": "code",
   "execution_count": 4,
   "metadata": {},
   "outputs": [],
   "source": [
    " # automate crome browser\n",
    "#browser = webdriver.Chrome()\n",
    "#browser.get(\"https://www.nintendo.com/games/game-guide/#filter/:q=\")"
   ]
  },
  {
   "cell_type": "code",
   "execution_count": 23,
   "metadata": {},
   "outputs": [],
   "source": [
    "#elm = driver.find_element_by_tag_name(\"#btn-load-more\")\n",
    "#elm.click()"
   ]
  },
  {
   "cell_type": "code",
   "execution_count": 7,
   "metadata": {},
   "outputs": [
    {
     "name": "stdout",
     "output_type": "stream",
     "text": [
      "Message: chrome not reachable\n",
      "  (Session info: chrome=77.0.3865.90)\n",
      "\n",
      "Complete\n"
     ]
    }
   ],
   "source": [
    "while True:\n",
    "    try:\n",
    "        elm = driver.find_element_by_tag_name('#btn-load-more')\n",
    "        time.sleep(2)\n",
    "        elm.click()\n",
    "        time.sleep(5)\n",
    "    except Exception as e:\n",
    "        print(e)\n",
    "        break\n",
    "print (\"Complete\")\n",
    "time.sleep(10)"
   ]
  },
  {
   "cell_type": "code",
   "execution_count": 20,
   "metadata": {},
   "outputs": [],
   "source": [
    "game_title=[] #List to store name of the games title\n",
    "game_prices=[] #List to store price of the game prices \n",
    "game_relese=[] #List to store rating of the game release date"
   ]
  },
  {
   "cell_type": "code",
   "execution_count": 15,
   "metadata": {},
   "outputs": [],
   "source": [
    "content = browser.page_source\n",
    "soup = BeautifulSoup(content)\n",
    "for a in soup.findAll('a',href=True, attrs={'class':'main-link'}):\n",
    "    title = a.find('h3', attrs={'class':'b3'})\n",
    "    price = a.find('p', attrs={'class':'b4 row-date'})\n",
    "    release = a.find('p', attrs={'class':'b3 row-price'})\n",
    "    game_title.append(title.text)\n",
    "    game_prices.append(price.text)\n",
    "    game_relese.append(release.text) "
   ]
  },
  {
   "cell_type": "code",
   "execution_count": 16,
   "metadata": {},
   "outputs": [
    {
     "data": {
      "text/html": [
       "<div>\n",
       "<style scoped>\n",
       "    .dataframe tbody tr th:only-of-type {\n",
       "        vertical-align: middle;\n",
       "    }\n",
       "\n",
       "    .dataframe tbody tr th {\n",
       "        vertical-align: top;\n",
       "    }\n",
       "\n",
       "    .dataframe thead th {\n",
       "        text-align: right;\n",
       "    }\n",
       "</style>\n",
       "<table border=\"1\" class=\"dataframe\">\n",
       "  <thead>\n",
       "    <tr style=\"text-align: right;\">\n",
       "      <th></th>\n",
       "      <th>Games Title</th>\n",
       "      <th>Games release</th>\n",
       "      <th>Games Price</th>\n",
       "    </tr>\n",
       "  </thead>\n",
       "  <tbody>\n",
       "    <tr>\n",
       "      <td>0</td>\n",
       "      <td>Animal Crossing: New Horizons</td>\n",
       "      <td>\\n\\n</td>\n",
       "      <td>Releases Mar 20, 2020</td>\n",
       "    </tr>\n",
       "    <tr>\n",
       "      <td>1</td>\n",
       "      <td>Tokyo Mirage Sessions™ #FE Encore</td>\n",
       "      <td>\\n$59.99\\n</td>\n",
       "      <td>Releases Jan 17, 2020</td>\n",
       "    </tr>\n",
       "    <tr>\n",
       "      <td>2</td>\n",
       "      <td>Pokémon Shield</td>\n",
       "      <td>\\n$59.99\\n</td>\n",
       "      <td>Releases Nov 15, 2019</td>\n",
       "    </tr>\n",
       "    <tr>\n",
       "      <td>3</td>\n",
       "      <td>Pokémon Sword &amp; Pokémon Shield Double Pack</td>\n",
       "      <td>\\n$119.99\\n</td>\n",
       "      <td>Releases Nov 15, 2019</td>\n",
       "    </tr>\n",
       "    <tr>\n",
       "      <td>4</td>\n",
       "      <td>Pokémon Sword</td>\n",
       "      <td>\\n$59.99\\n</td>\n",
       "      <td>Releases Nov 15, 2019</td>\n",
       "    </tr>\n",
       "    <tr>\n",
       "      <td>...</td>\n",
       "      <td>...</td>\n",
       "      <td>...</td>\n",
       "      <td>...</td>\n",
       "    </tr>\n",
       "    <tr>\n",
       "      <td>995</td>\n",
       "      <td>Turok</td>\n",
       "      <td>\\n$19.99\\n</td>\n",
       "      <td>Released Mar 18, 2019</td>\n",
       "    </tr>\n",
       "    <tr>\n",
       "      <td>996</td>\n",
       "      <td>Fate/EXTELLA LINK</td>\n",
       "      <td>\\n$49.99\\n</td>\n",
       "      <td>Released Mar 18, 2019</td>\n",
       "    </tr>\n",
       "    <tr>\n",
       "      <td>997</td>\n",
       "      <td>Not Not - A Brain Buster</td>\n",
       "      <td>\\n$0.49\\n$1.99\\n</td>\n",
       "      <td>Released Mar 15, 2019</td>\n",
       "    </tr>\n",
       "    <tr>\n",
       "      <td>998</td>\n",
       "      <td>Blood Waves</td>\n",
       "      <td>\\n$9.99\\n</td>\n",
       "      <td>Released Mar 15, 2019</td>\n",
       "    </tr>\n",
       "    <tr>\n",
       "      <td>999</td>\n",
       "      <td>Bargain Hunter</td>\n",
       "      <td>\\n$12.49\\n</td>\n",
       "      <td>Released Mar 15, 2019</td>\n",
       "    </tr>\n",
       "  </tbody>\n",
       "</table>\n",
       "<p>1000 rows × 3 columns</p>\n",
       "</div>"
      ],
      "text/plain": [
       "                                    Games Title     Games release  \\\n",
       "0                 Animal Crossing: New Horizons              \\n\\n   \n",
       "1             Tokyo Mirage Sessions™ #FE Encore        \\n$59.99\\n   \n",
       "2                                Pokémon Shield        \\n$59.99\\n   \n",
       "3    Pokémon Sword & Pokémon Shield Double Pack       \\n$119.99\\n   \n",
       "4                                 Pokémon Sword        \\n$59.99\\n   \n",
       "..                                          ...               ...   \n",
       "995                                       Turok        \\n$19.99\\n   \n",
       "996                           Fate/EXTELLA LINK        \\n$49.99\\n   \n",
       "997                    Not Not - A Brain Buster  \\n$0.49\\n$1.99\\n   \n",
       "998                                 Blood Waves         \\n$9.99\\n   \n",
       "999                              Bargain Hunter        \\n$12.49\\n   \n",
       "\n",
       "               Games Price  \n",
       "0    Releases Mar 20, 2020  \n",
       "1    Releases Jan 17, 2020  \n",
       "2    Releases Nov 15, 2019  \n",
       "3    Releases Nov 15, 2019  \n",
       "4    Releases Nov 15, 2019  \n",
       "..                     ...  \n",
       "995  Released Mar 18, 2019  \n",
       "996  Released Mar 18, 2019  \n",
       "997  Released Mar 15, 2019  \n",
       "998  Released Mar 15, 2019  \n",
       "999  Released Mar 15, 2019  \n",
       "\n",
       "[1000 rows x 3 columns]"
      ]
     },
     "execution_count": 16,
     "metadata": {},
     "output_type": "execute_result"
    }
   ],
   "source": [
    "game_data=pd.DataFrame({'Games Title': game_title, 'Games release': game_relese, 'Games Price': game_prices})\n",
    "print(game_data)"
   ]
  },
  {
   "cell_type": "code",
   "execution_count": null,
   "metadata": {},
   "outputs": [],
   "source": []
  },
  {
   "cell_type": "code",
   "execution_count": null,
   "metadata": {},
   "outputs": [],
   "source": []
  }
 ],
 "metadata": {
  "kernelspec": {
   "display_name": "Python 3",
   "language": "python",
   "name": "python3"
  },
  "language_info": {
   "codemirror_mode": {
    "name": "ipython",
    "version": 3
   },
   "file_extension": ".py",
   "mimetype": "text/x-python",
   "name": "python",
   "nbconvert_exporter": "python",
   "pygments_lexer": "ipython3",
   "version": "3.7.4"
  }
 },
 "nbformat": 4,
 "nbformat_minor": 4
}
