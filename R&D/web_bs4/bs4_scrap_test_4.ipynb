{
 "cells": [
  {
   "cell_type": "markdown",
   "metadata": {},
   "source": [
    "<h1 align=center><font size = 5> Web Scraping </font></h1>\n",
    "\n",
    "<h1>"
   ]
  },
  {
   "cell_type": "code",
   "execution_count": 1,
   "metadata": {},
   "outputs": [],
   "source": [
    "from bs4 import BeautifulSoup as soup\n",
    "from urllib.request import urlopen as uReq"
   ]
  },
  {
   "cell_type": "code",
   "execution_count": 2,
   "metadata": {},
   "outputs": [],
   "source": [
    "my_url=\"https://www.nintendo.com\""
   ]
  },
  {
   "cell_type": "code",
   "execution_count": 3,
   "metadata": {},
   "outputs": [],
   "source": [
    "Uclient = uReq(my_url)\n",
    "page_html=Uclient.read()\n",
    "Uclient.close()\n",
    "page_soup = soup(page_html, \"html.parser\")"
   ]
  },
  {
   "cell_type": "markdown",
   "metadata": {},
   "source": [
    "#### Central  stage banner"
   ]
  },
  {
   "cell_type": "code",
   "execution_count": 5,
   "metadata": {},
   "outputs": [
    {
     "name": "stdout",
     "output_type": "stream",
     "text": [
      "1\n",
      "<div class=\"center-stage-banner aem-GridColumn aem-GridColumn--default--12\">\n",
      " <div class=\"carousel hero\" id=\"center-stage-banner-30d410a2-2f39-4ea8-b5e8-4318cff33d4b\">\n",
      "  <div class=\"frame\">\n",
      "   <ul class=\"panels\">\n",
      "    <li class=\"placeholder\">\n",
      "     <a class=\"hero-img\" style=\"position: static; opacity: 0;\">\n",
      "     </a>\n",
      "    </li>\n",
      "    <li data-background-color=\"#FEF4CC\" data-background-image=\"\" style=\"height: 100%;\">\n",
      "     <div class=\"video-container\">\n",
      "      <a href=\"http://dragonquest.nintendo.com/dq11/\" tabindex=\"-1\" title=\"DRAGON QUEST XI S: Echoes of an Elusive Age - Definitive Edition - Available now\">\n",
      "       <video autoplay=\"\" muted=\"\" poster=\"/content/dam/noa/en_US/merchandising/center-stage-banner/dragon-quest-xi/1200x510_DQXI_CenterStage_v02_fff5cb.jpg\">\n",
      "        <source src=\"/content/dam/noa/en_US/merchandising/center-stage-banner/dragon-quest-xi/1200x510_DQXI_CenterStage_v02.mp4\" type=\"video/mp4\"/>\n",
      "       </video>\n",
      "      </a>\n",
      "     </div>\n",
      "     <a class=\"hero-img\" data-index=\"_A0\" href=\"http://dragonquest.nintendo.com/dq11/\" style=\"z-index: -1; background-color: #FEF4CC\" tabindex=\"-1\" title=\"DRAGON QUEST XI S: Echoes of an Elusive Age - Definitive Edition - Available now\">\n",
      "     </a>\n",
      "     <div class=\"mob-image-container\">\n",
      "      <a href=\"http://dragonquest.nintendo.com/dq11/\" tabindex=\"-1\" title=\"DRAGON QUEST XI S: Echoes of an Elusive Age - Definitive Edition - Available now\">\n",
      "       <img alt=\"DRAGON QUEST XI S: Echoes of an Elusive Age - Definitive Edition - Available now\" src=\"/content/dam/noa/en_US/merchandising/center-stage-banner/dragon-quest-xi/570x354_DQXI_mobile_2.jpg\"/>\n",
      "      </a>\n",
      "     </div>\n",
      "     <div class=\"info-bar\">\n",
      "      <a data-index=\"_A0\" href=\"http://dragonquest.nintendo.com/dq11/\" tabindex=\"-1\" title=\"DRAGON QUEST XI S: Echoes of an Elusive Age - Definitive Edition - Available now\">\n",
      "       <div class=\"inner-content row\">\n",
      "        <div class=\"column col3 hide-mobile\" style=\"min-height: 70px; text-align: left;\">\n",
      "         <span class=\"esrb-rating\">\n",
      "          <img alt=\"ESRB: Teen\" src=\"/content/dam/noa/en_US/esrb/t/t.svg\"/>\n",
      "          <span class=\"descriptors\">\n",
      "           <div>\n",
      "            Crude Humor, \n",
      "                                    \n",
      "                                        Fantasy Violence, \n",
      "                                    \n",
      "                                        Mild Blood, \n",
      "                                    \n",
      "                                        Simulated Gambling, \n",
      "                                    \n",
      "                                        Suggestive Themes, \n",
      "                                    \n",
      "                                        Use of Alcohol\n",
      "           </div>\n",
      "          </span>\n",
      "         </span>\n",
      "        </div>\n",
      "        <div class=\"column col6\">\n",
      "         <span class=\"h3\">\n",
      "          Available now\n",
      "         </span>\n",
      "        </div>\n",
      "        <div class=\"column col3 hide-mobile\" style=\"vertical-align: top;\">\n",
      "         <div class=\"cta-inner-container\">\n",
      "          <span class=\"btn\">\n",
      "           Visit site\n",
      "          </span>\n",
      "         </div>\n",
      "        </div>\n",
      "       </div>\n",
      "      </a>\n",
      "     </div>\n",
      "    </li>\n",
      "    <li data-background-color=\"#E5E5E5\" data-background-image=\"\" style=\"height: 100%;\">\n",
      "     <a class=\"hero-img hide-mobile\" data-index=\"_A1\" href=\"https://swordshield.pokemon.com/en-us/\" style=\"z-index: -1; background-image: url(/content/dam/noa/en_US/merchandising/center-stage-banner/pokemon-sword-and-shield/1200x510_swordsheild_CenterStage_v02.jpg)\" tabindex=\"-1\" title=\"Pokemon Sword and Pokemon Shield\">\n",
      "     </a>\n",
      "     <a class=\"hero-img hide-desktop hide-tablet\" data-index=\"_A1\" href=\"https://swordshield.pokemon.com/en-us/\" style=\"z-index: -1; background-image: url(/content/dam/noa/en_US/merchandising/center-stage-banner/pokemon-sword-and-shield/570x354_PSS_mobile_v2.jpg)\" tabindex=\"-1\" title=\"Pokemon Sword and Pokemon Shield\">\n",
      "     </a>\n",
      "     <div class=\"info-bar\">\n",
      "      <a data-index=\"_A1\" href=\"https://swordshield.pokemon.com/en-us/\" tabindex=\"-1\" title=\"Pokemon Sword and Pokemon Shield\">\n",
      "       <div class=\"inner-content row\">\n",
      "        <div class=\"column col3 hide-mobile\" style=\"min-height: 70px; text-align: left;\">\n",
      "         <span class=\"esrb-rating\">\n",
      "          <img alt=\"ESRB: Everyone\" src=\"/content/dam/noa/en_US/esrb/e/e.svg\"/>\n",
      "          <span class=\"descriptors\">\n",
      "           <div>\n",
      "            Comic Mischief, \n",
      "                                    \n",
      "                                        Mild Cartoon Violence\n",
      "           </div>\n",
      "          </span>\n",
      "         </span>\n",
      "        </div>\n",
      "        <div class=\"column col6\">\n",
      "         <span class=\"h3\">\n",
      "          Pre-order now\n",
      "         </span>\n",
      "        </div>\n",
      "        <div class=\"column col3 hide-mobile\" style=\"vertical-align: top;\">\n",
      "         <div class=\"cta-inner-container\">\n",
      "          <span class=\"btn\">\n",
      "           Visit site\n",
      "          </span>\n",
      "         </div>\n",
      "        </div>\n",
      "       </div>\n",
      "      </a>\n",
      "     </div>\n",
      "    </li>\n",
      "    <li data-background-color=\"#EAE2D6\" data-background-image=\"\" style=\"height: 100%;\">\n",
      "     <div class=\"video-container\">\n",
      "      <a href=\"https://fireemblem.nintendo.com/three-houses/\" tabindex=\"-1\" title=\"Fire Emblem: Three Houses \">\n",
      "       <video autoplay=\"\" muted=\"\" poster=\"/content/dam/noa/en_US/merchandising/center-stage-banner/fire-emblem-three-houses/1200x510_FE3Houses_CenterStage_v02_still_eae2d7.jpg\">\n",
      "        <source src=\"/content/dam/noa/en_US/merchandising/center-stage-banner/fire-emblem-three-houses/1200x510_FE3Houses_CenterStage_3Houses_revised_forReview_compressed.mp4\" type=\"video/mp4\"/>\n",
      "       </video>\n",
      "      </a>\n",
      "     </div>\n",
      "     <a class=\"hero-img\" data-index=\"_A2\" href=\"https://fireemblem.nintendo.com/three-houses/\" style=\"z-index: -1; background-color: #EAE2D6\" tabindex=\"-1\" title=\"Fire Emblem: Three Houses \">\n",
      "     </a>\n",
      "     <div class=\"mob-image-container\">\n",
      "      <a href=\"https://fireemblem.nintendo.com/three-houses/\" tabindex=\"-1\" title=\"Fire Emblem: Three Houses \">\n",
      "       <img alt=\"Fire Emblem: Three Houses \" src=\"/content/dam/noa/en_US/merchandising/center-stage-banner/fire-emblem-three-houses/570x354_FETH_mobile_V2.jpg\"/>\n",
      "      </a>\n",
      "     </div>\n",
      "     <div class=\"info-bar\">\n",
      "      <a data-index=\"_A2\" href=\"https://fireemblem.nintendo.com/three-houses/\" tabindex=\"-1\" title=\"Fire Emblem: Three Houses \">\n",
      "       <div class=\"inner-content row\">\n",
      "        <div class=\"column col3 hide-mobile\" style=\"min-height: 70px; text-align: left;\">\n",
      "         <span class=\"esrb-rating\">\n",
      "          <img alt=\"ESRB: Teen\" src=\"/content/dam/noa/en_US/esrb/t/t.svg\"/>\n",
      "          <span class=\"descriptors\">\n",
      "           <div>\n",
      "            Blood, \n",
      "                                    \n",
      "                                        Suggestive Themes, \n",
      "                                    \n",
      "                                        Violence\n",
      "           </div>\n",
      "           <div class=\"separator\">\n",
      "           </div>\n",
      "           <div>\n",
      "            In-Game Purchases, \n",
      "                                    \n",
      "                                        Users Interact\n",
      "           </div>\n",
      "          </span>\n",
      "         </span>\n",
      "        </div>\n",
      "        <div class=\"column col6\">\n",
      "         <span class=\"h3\">\n",
      "          Available now\n",
      "         </span>\n",
      "        </div>\n",
      "        <div class=\"column col3 hide-mobile\" style=\"vertical-align: top;\">\n",
      "         <div class=\"cta-inner-container\">\n",
      "          <span class=\"btn\">\n",
      "           Visit site\n",
      "          </span>\n",
      "         </div>\n",
      "        </div>\n",
      "       </div>\n",
      "      </a>\n",
      "     </div>\n",
      "    </li>\n",
      "    <li data-background-color=\"#000000\" data-background-image=\"\" style=\"height: 100%;\">\n",
      "     <div class=\"video-container\">\n",
      "      <a href=\"https://marvelultimatealliance3.nintendo.com/\" tabindex=\"-1\" title=\"Marvel Ultimate Alliance 3: The Black Order\">\n",
      "       <video autoplay=\"\" muted=\"\" poster=\"/content/dam/noa/en_US/merchandising/center-stage-banner/marvel-ultimate-alliance-3/1200x510_MUA3_CenterStage_v01_000000.jpg\">\n",
      "        <source src=\"/content/dam/noa/en_US/merchandising/center-stage-banner/marvel-ultimate-alliance-3/1200x510_MUA3_CenterStage_conpressed.mp4\" type=\"video/mp4\"/>\n",
      "       </video>\n",
      "      </a>\n",
      "     </div>\n",
      "     <a class=\"hero-img\" data-index=\"_A3\" href=\"https://marvelultimatealliance3.nintendo.com/\" style=\"z-index: -1; background-color: #000000\" tabindex=\"-1\" title=\"Marvel Ultimate Alliance 3: The Black Order\">\n",
      "     </a>\n",
      "     <div class=\"mob-image-container\">\n",
      "      <a href=\"https://marvelultimatealliance3.nintendo.com/\" tabindex=\"-1\" title=\"Marvel Ultimate Alliance 3: The Black Order\">\n",
      "       <img alt=\"Marvel Ultimate Alliance 3: The Black Order\" src=\"/content/dam/noa/en_US/merchandising/center-stage-banner/marvel-ultimate-alliance-3/570x354_Marvel_mobile_v2.jpg\"/>\n",
      "      </a>\n",
      "     </div>\n",
      "     <div class=\"info-bar\">\n",
      "      <a data-index=\"_A3\" href=\"https://marvelultimatealliance3.nintendo.com/\" tabindex=\"-1\" title=\"Marvel Ultimate Alliance 3: The Black Order\">\n",
      "       <div class=\"inner-content row\">\n",
      "        <div class=\"column col3 hide-mobile\" style=\"min-height: 70px; text-align: left;\">\n",
      "         <span class=\"esrb-rating\">\n",
      "          <img alt=\"ESRB: Teen\" src=\"/content/dam/noa/en_US/esrb/t/t.svg\"/>\n",
      "          <span class=\"descriptors\">\n",
      "           <div>\n",
      "            Mild Blood, \n",
      "                                    \n",
      "                                        Mild Suggestive Themes, \n",
      "                                    \n",
      "                                        Violence\n",
      "           </div>\n",
      "          </span>\n",
      "         </span>\n",
      "        </div>\n",
      "        <div class=\"column col6\">\n",
      "         <span class=\"h3\">\n",
      "          Available now\n",
      "         </span>\n",
      "        </div>\n",
      "        <div class=\"column col3 hide-mobile\" style=\"vertical-align: top;\">\n",
      "         <div class=\"cta-inner-container\">\n",
      "          <span class=\"btn\">\n",
      "           Visit site\n",
      "          </span>\n",
      "         </div>\n",
      "        </div>\n",
      "       </div>\n",
      "      </a>\n",
      "     </div>\n",
      "    </li>\n",
      "   </ul>\n",
      "   <div class=\"nav\">\n",
      "    <div class=\"prev arrow\">\n",
      "     <a class=\"icon-arrow-01-left\" href=\"#\">\n",
      "      Prev\n",
      "     </a>\n",
      "    </div>\n",
      "    <div class=\"next arrow\">\n",
      "     <a class=\"icon-arrow-01-right\" href=\"#\">\n",
      "      Next\n",
      "     </a>\n",
      "    </div>\n",
      "   </div>\n",
      "  </div>\n",
      " </div>\n",
      "</div>\n",
      "\n"
     ]
    }
   ],
   "source": [
    "containers= page_soup.findAll(\"div\",{\"class\":\"center-stage-banner aem-GridColumn aem-GridColumn--default--12\"})\n",
    "print(len(containers))\n",
    "print(soup.prettify(containers[0]))\n",
    "#print(containers.div.img[\"alt\"])"
   ]
  },
  {
   "cell_type": "markdown",
   "metadata": {},
   "source": [
    "####   Feature Banner "
   ]
  },
  {
   "cell_type": "code",
   "execution_count": 15,
   "metadata": {},
   "outputs": [
    {
     "name": "stdout",
     "output_type": "stream",
     "text": [
      "1\n"
     ]
    }
   ],
   "source": [
    "containers= page_soup.findAll(\"div\",{\"class\":\"feature-banner aem-GridColumn aem-GridColumn--default--12\"})\n",
    "print(len(containers))\n",
    "#print(soup.prettify(containers[0]))\n",
    "#print(containers.div.img[\"alt\"])"
   ]
  },
  {
   "cell_type": "code",
   "execution_count": null,
   "metadata": {},
   "outputs": [],
   "source": [
    "containers= page_soup.findAll(\"div\",{\"class\":\"games noa-carousel-container\"})\n",
    "print(len(containers))\n",
    "#print(soup.prettify(containers[0]))\n",
    "#print(containers.div.img[\"alt\"])"
   ]
  },
  {
   "cell_type": "markdown",
   "metadata": {},
   "source": [
    "#### Exploring Gaming Systems "
   ]
  },
  {
   "cell_type": "code",
   "execution_count": 21,
   "metadata": {},
   "outputs": [
    {
     "name": "stdout",
     "output_type": "stream",
     "text": [
      "1\n"
     ]
    }
   ],
   "source": [
    "containers= page_soup.findAll(\"div\",{\"class\":\"platforms-list aem-GridColumn aem-GridColumn--default--12\"})\n",
    "print(len(containers))\n",
    "#print(soup.prettify(containers[0]))\n",
    "#print(containers.div.img[\"alt\"])"
   ]
  },
  {
   "cell_type": "markdown",
   "metadata": {},
   "source": [
    "#### Best selling games"
   ]
  },
  {
   "cell_type": "code",
   "execution_count": 23,
   "metadata": {},
   "outputs": [
    {
     "name": "stdout",
     "output_type": "stream",
     "text": [
      "1\n"
     ]
    }
   ],
   "source": [
    "containers= page_soup.findAll(\"div\",{\"class\":\"amiibo-list list aem-GridColumn aem-GridColumn--default--12\"})\n",
    "print(len(containers))\n",
    "#print(soup.prettify(containers[0]))\n",
    "#print(containers.div.img[\"alt\"])"
   ]
  },
  {
   "cell_type": "code",
   "execution_count": null,
   "metadata": {},
   "outputs": [],
   "source": [
    "containers= page_soup.findAll(\"div\",{\"class\":\"wrapper new-amiibo at-element-click-tracking\"})\n",
    "print(len(containers))\n",
    "#print(soup.prettify(containers[0]))\n",
    "#print(containers.div.img[\"alt\"])"
   ]
  },
  {
   "cell_type": "markdown",
   "metadata": {},
   "source": [
    "#### General wraper"
   ]
  },
  {
   "cell_type": "code",
   "execution_count": 22,
   "metadata": {},
   "outputs": [
    {
     "name": "stdout",
     "output_type": "stream",
     "text": [
      "0\n"
     ]
    }
   ],
   "source": [
    "containers= page_soup.findAll(\"div\",{\"class\":\"general-wrapper parbase aem-GridColumn aem-GridColumn--default--12\"})\n",
    "print(len(containers))\n",
    "#print(soup.prettify(containers[0]))\n",
    "#print(containers.div.img[\"alt\"])"
   ]
  },
  {
   "cell_type": "code",
   "execution_count": null,
   "metadata": {},
   "outputs": [],
   "source": []
  },
  {
   "cell_type": "code",
   "execution_count": null,
   "metadata": {},
   "outputs": [],
   "source": [
    "containers= page_soup.findAll(\"div\",{\"class\":\"amiibo-list list aem-GridColumn aem-GridColumn--default--12\"})\n",
    "print(len(containers))\n",
    "#print(soup.prettify(containers[0]))\n",
    "#print(containers.div.img[\"alt\"])"
   ]
  },
  {
   "cell_type": "code",
   "execution_count": null,
   "metadata": {},
   "outputs": [],
   "source": []
  }
 ],
 "metadata": {
  "kernelspec": {
   "display_name": "Python 3",
   "language": "python",
   "name": "python3"
  },
  "language_info": {
   "codemirror_mode": {
    "name": "ipython",
    "version": 3
   },
   "file_extension": ".py",
   "mimetype": "text/x-python",
   "name": "python",
   "nbconvert_exporter": "python",
   "pygments_lexer": "ipython3",
   "version": "3.7.3"
  }
 },
 "nbformat": 4,
 "nbformat_minor": 2
}
