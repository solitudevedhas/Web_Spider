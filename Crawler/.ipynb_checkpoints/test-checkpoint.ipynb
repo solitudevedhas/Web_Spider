{
 "cells": [
  {
   "cell_type": "code",
   "execution_count": 1,
   "metadata": {},
   "outputs": [],
   "source": [
    "import threading\n",
    "from queue import Queue\n",
    "from spider import Spider\n",
    "from general import *\n",
    "from domain import *\n",
    "from urllib.request import urlopen\n",
    "from link_finder import LinkFinder"
   ]
  },
  {
   "cell_type": "code",
   "execution_count": 2,
   "metadata": {},
   "outputs": [
    {
     "name": "stdout",
     "output_type": "stream",
     "text": [
      "Creating Project Directory nintendo\n",
      "Creating Project Data Directory nintendo/Data\n",
      "First spider now crawling https://www.nintendo.com/\n",
      "Queue 1 | Crawled  0\n"
     ]
    },
    {
     "data": {
      "text/plain": [
       "<spider.Spider at 0x1bf79a9e848>"
      ]
     },
     "execution_count": 2,
     "metadata": {},
     "output_type": "execute_result"
    }
   ],
   "source": [
    "PROJECT_NAME = 'nintendo'\n",
    "HOMEPAGE = 'https://www.nintendo.com/'\n",
    "DOMAIN_NAME = get_domain_name(HOMEPAGE)\n",
    "\n",
    "Spider(PROJECT_NAME, HOMEPAGE, DOMAIN_NAME)"
   ]
  },
  {
   "cell_type": "code",
   "execution_count": 5,
   "metadata": {},
   "outputs": [
    {
     "data": {
      "text/plain": [
       "'nintendo/Data/queue.txt'"
      ]
     },
     "execution_count": 5,
     "metadata": {},
     "output_type": "execute_result"
    }
   ],
   "source": []
  },
  {
   "cell_type": "code",
   "execution_count": null,
   "metadata": {},
   "outputs": [],
   "source": []
  }
 ],
 "metadata": {
  "kernelspec": {
   "display_name": "Python 3",
   "language": "python",
   "name": "python3"
  },
  "language_info": {
   "codemirror_mode": {
    "name": "ipython",
    "version": 3
   },
   "file_extension": ".py",
   "mimetype": "text/x-python",
   "name": "python",
   "nbconvert_exporter": "python",
   "pygments_lexer": "ipython3",
   "version": "3.7.4"
  }
 },
 "nbformat": 4,
 "nbformat_minor": 4
}
